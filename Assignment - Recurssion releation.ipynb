{
 "cells": [
  {
   "cell_type": "markdown",
   "id": "a96c826e-931f-47a7-a9b0-6761c2fa369f",
   "metadata": {},
   "source": [
    "1. Find the value of T(2) for the recurrence relation T(n) = 3T(n-1) + 12n, given that T(0)=5."
   ]
  },
  {
   "cell_type": "code",
   "execution_count": 2,
   "id": "d1305486-e421-4305-a3d5-2611bce7022a",
   "metadata": {},
   "outputs": [
    {
     "name": "stdout",
     "output_type": "stream",
     "text": [
      "T(2) = 105\n"
     ]
    }
   ],
   "source": [
    "def calculate_T(n):\n",
    "    if n == 0:\n",
    "        return 5  # Base case\n",
    "    else:\n",
    "        return 3 * calculate_T(n - 1) + 12 * n\n",
    "\n",
    "# Calculate T(2)\n",
    "result_T2 = calculate_T(2)\n",
    "\n",
    "# Print the result\n",
    "print(\"T(2) =\", result_T2)\n"
   ]
  },
  {
   "cell_type": "raw",
   "id": "9966b5be-1e88-4ede-8701-80aa2389960f",
   "metadata": {},
   "source": [
    "2. Given a rec%rrence relation, solve it %sing the s%bstit%tion method:\n",
    "a. T(n) = T(n-1) + c\n",
    "b. T(n) = 2T(n/2) + n\n",
    "c. T(n) = 2T(n/2) + c\n",
    "d. T(n) = T(n/2) + c"
   ]
  },
  {
   "cell_type": "code",
   "execution_count": 5,
   "id": "44b4685b-3013-49da-aed6-06cfb2734392",
   "metadata": {},
   "outputs": [
    {
     "name": "stdout",
     "output_type": "stream",
     "text": [
      "Result for a: 15\n"
     ]
    }
   ],
   "source": [
    " # a. T(n)=T(n−1)+c\n",
    "def solve_recurrence_a(n, c):\n",
    "    if n == 0:\n",
    "        return 0\n",
    "    else:\n",
    "        return solve_recurrence_a(n - 1, c) + c\n",
    "\n",
    "# Example usage:\n",
    "result_a = solve_recurrence_a(5, 3)  # Replace 5 with the desired value of n, and 3 with the value of c\n",
    "print(\"Result for a:\", result_a)"
   ]
  },
  {
   "cell_type": "code",
   "execution_count": 7,
   "id": "d0caef9e-8282-4f94-81c5-445a94a612e1",
   "metadata": {},
   "outputs": [
    {
     "name": "stdout",
     "output_type": "stream",
     "text": [
      "Result for b: 32\n"
     ]
    }
   ],
   "source": [
    "# b. T(n) = 2T(n/2) + n\n",
    "def solve_recurrence_b(n):\n",
    "    if n == 1:\n",
    "        return 1\n",
    "    else:\n",
    "        return 2 * solve_recurrence_b(n // 2) + n\n",
    "\n",
    "# Example usage:\n",
    "result_b = solve_recurrence_b(8)  # Replace 8 with the desired value of n\n",
    "print(\"Result for b:\", result_b)"
   ]
  },
  {
   "cell_type": "code",
   "execution_count": 8,
   "id": "fdb1e2bf-84e7-4421-81ac-4083ef8119db",
   "metadata": {},
   "outputs": [
    {
     "name": "stdout",
     "output_type": "stream",
     "text": [
      "Result for c: 14\n"
     ]
    }
   ],
   "source": [
    "# c. T(n) = 2T(n/2) + c\n",
    "def solve_recurrence_c(n, c):\n",
    "    if n == 1:\n",
    "        return c\n",
    "    else:\n",
    "        return 2 * solve_recurrence_c(n // 2, c) + c\n",
    "\n",
    "# Example usage:\n",
    "result_c = solve_recurrence_c(4, 2)  # Replace 4 with the desired value of n, and 2 with the value of c\n",
    "print(\"Result for c:\", result_c)"
   ]
  },
  {
   "cell_type": "code",
   "execution_count": 9,
   "id": "1776d09b-0c49-43c6-810b-a1b6b86a4feb",
   "metadata": {},
   "outputs": [
    {
     "name": "stdout",
     "output_type": "stream",
     "text": [
      "Result for d: 12\n"
     ]
    }
   ],
   "source": [
    "# d. T(n) = T(n/2) + c\n",
    "def solve_recurrence_d(n, c):\n",
    "    if n == 1:\n",
    "        return c\n",
    "    else:\n",
    "        return solve_recurrence_d(n // 2, c) + c\n",
    "\n",
    "# Example usage:\n",
    "result_d = solve_recurrence_d(8, 3)  # Replace 8 with the desired value of n, and 3 with the value of c\n",
    "print(\"Result for d:\", result_d)"
   ]
  },
  {
   "cell_type": "raw",
   "id": "cab5ca1e-ca66-45e2-9934-6a9fc1237554",
   "metadata": {},
   "source": [
    "3. Given a rec%rrence relation, solve it %sing the rec%rsive tree approach:\n",
    "a. T(n) = 2T(n-1) +1\n",
    "b. T(n) = 2T(n/2) + n"
   ]
  },
  {
   "cell_type": "raw",
   "id": "5ef00143-128c-473c-ac50-09c41033dbbc",
   "metadata": {},
   "source": [
    "T(n) = 2T(n-1) + 1\n",
    "     = 2[2T(n-2) + 1] + 1\n",
    "     = 2[2[2T(n-3) + 1] + 1] + 1\n",
    "     = ...\n",
    "     = 2^k T(n-k) + k"
   ]
  },
  {
   "cell_type": "raw",
   "id": "fe1ae3bc-0fc0-4d7a-9082-cfbebe449fa3",
   "metadata": {},
   "source": [
    "T(n) = 2T(n/2) + n\n",
    "     = 2[2T(n/4) + n/2] + n\n",
    "     = 2[2[2T(n/8) + n/4] + n/2] + n\n",
    "     = ...\n",
    "     = n + n/2 + n/4 + ... + 1"
   ]
  }
 ],
 "metadata": {
  "kernelspec": {
   "display_name": "Python 3 (ipykernel)",
   "language": "python",
   "name": "python3"
  },
  "language_info": {
   "codemirror_mode": {
    "name": "ipython",
    "version": 3
   },
   "file_extension": ".py",
   "mimetype": "text/x-python",
   "name": "python",
   "nbconvert_exporter": "python",
   "pygments_lexer": "ipython3",
   "version": "3.10.8"
  }
 },
 "nbformat": 4,
 "nbformat_minor": 5
}
